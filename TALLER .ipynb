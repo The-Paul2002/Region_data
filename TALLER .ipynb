{
 "cells": [
  {
   "cell_type": "markdown",
   "id": "b35de7ee",
   "metadata": {},
   "source": [
    "# MACHINE LEARNING CON PYTHON"
   ]
  },
  {
   "cell_type": "markdown",
   "id": "0edafbf2",
   "metadata": {},
   "source": [
    "¿Que es ML?"
   ]
  },
  {
   "cell_type": "markdown",
   "id": "657bc6fd",
   "metadata": {},
   "source": [
    "LOS humanos predecimos ideoas, Jhon V. Guttag dice lo siguiente que el ser humano tiene ideas generalizadas entre ellas lecturas documentales , toda esa información se vuelven recuerdos , memorizamos luego generalizamos y ceramos ideas (CON CONCIENCIA) humanos predicen recuerdos \n",
    "La inteligencia artifical son algoritmos predicen datos esa es la diferencia (SIN CONSIENCIA)\n"
   ]
  },
  {
   "cell_type": "markdown",
   "id": "d022c3e7",
   "metadata": {},
   "source": [
    "Caso como funciona ML\n",
    "Existe una tienda llamada Target , es un centro comercial , que ocurre con la empresa. Un padre se entera que le llego a su hija publicidad de productos para mujeres embarazadas , el padre va y reclama a la empresa pero la chica de 14 años estaba embarazada . Aqui funciono el trato automático .  Su predicción fue al recavado datos, para ello puso en movimiento una tarjeta con promociones para mujeres embarazadas con ID_USER observaban su consumo de chocolate, yogurts, ... con eso entiende las carácteristicas para las embarazadas y para no las embarazadas . Aqui entra el ML para predecir luego cerraron la promoción de la tarjeta pero ellos ya tenian el USER  , ellos entendian en el pasado para generalizar y crean un módelo el cual será según sus tipos de consumo y le llega la publicidad hipersegmentada "
   ]
  },
  {
   "cell_type": "code",
   "execution_count": null,
   "id": "bbade7c2",
   "metadata": {},
   "outputs": [],
   "source": [
    "matplotlib inline"
   ]
  },
  {
   "cell_type": "code",
   "execution_count": 2,
   "id": "7dd5f8b8",
   "metadata": {},
   "outputs": [],
   "source": [
    "from ipywidgets import interact \n",
    "import matplotlib.pyplot as plt\n",
    "from mat"
   ]
  },
  {
   "cell_type": "code",
   "execution_count": null,
   "id": "d62c37aa",
   "metadata": {},
   "outputs": [],
   "source": []
  },
  {
   "cell_type": "code",
   "execution_count": null,
   "id": "f717f09c",
   "metadata": {},
   "outputs": [],
   "source": []
  }
 ],
 "metadata": {
  "kernelspec": {
   "display_name": "Python 3 (ipykernel)",
   "language": "python",
   "name": "python3"
  },
  "language_info": {
   "codemirror_mode": {
    "name": "ipython",
    "version": 3
   },
   "file_extension": ".py",
   "mimetype": "text/x-python",
   "name": "python",
   "nbconvert_exporter": "python",
   "pygments_lexer": "ipython3",
   "version": "3.9.7"
  }
 },
 "nbformat": 4,
 "nbformat_minor": 5
}
