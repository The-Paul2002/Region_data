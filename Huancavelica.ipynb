{
 "cells": [
  {
   "cell_type": "code",
   "execution_count": 5,
   "metadata": {},
   "outputs": [],
   "source": [
    "import pandas as pd "
   ]
  },
  {
   "cell_type": "code",
   "execution_count": null,
   "metadata": {},
   "outputs": [],
   "source": [
    "hua= pd.read_excel(r\"C:\\Users\\egonz\\Desktop\\Data/HUANCAVELICA.xlsx\")\n",
    "hua[\"Region\"] = \"HUANCAVELICA\"\n",
    "region = hua[\"Region\"]\n",
    "hua.drop(labels = \"Region\", axis=1, inplace = True)\n",
    "hua.insert(0, \"Region\", region)\n",
    "hua.columns= [\"Region\",\"District\",\"Place\",\"4_6_years_men\",\"4_6_years_women\"\n",
    ",\"4_6_years_total\",\"6_14_years_men\",\"6_14_years_women\",\"6_14_years_total\",\"man_read\",\"women_read\",\"total_read\",\"men_not_read\",\"women_not_read\",\"total_not_read\",\"man_write\",\"women_write\",\"total_write\",\"men_not_write\",\"women_not_write\",\"total_not_write\",\"instruction_men\",\"instruction_women\",\"instruction_total\",\"no_instruction_men\",\"no_instruction_women\",\"no_instruction_total\",\"finished_instr_men\",\"finished_instr_women\",\"finished_instr_total\",\"not_finished_instr_men\",\"not_finished_instr_women\",\"not_finished_instr_total\",\"peruvian_men\"\n",
    " , \"peruvian_women\", \"foreign_men\", \"foreign_women\", \"whites\", \"natives\", \"mestizos\" , \"blacks\"]"
   ]
  },
  {
   "cell_type": "code",
   "execution_count": 6,
   "metadata": {},
   "outputs": [],
   "source": [
    "hua= pd.read_excel(r\"C:\\Users\\egonz\\Desktop\\Data/HUANCAVELICA.xlsx\")\n",
    "hua[\"Region\"] = \"HUANCAVELICA\"\n",
    "region = hua[\"Region\"]"
   ]
  },
  {
   "cell_type": "code",
   "execution_count": 7,
   "metadata": {},
   "outputs": [],
   "source": [
    "hua.drop(labels = \"Region\", axis=1, inplace = True)\n",
    "hua.insert(0, \"Region\", region)"
   ]
  },
  {
   "cell_type": "code",
   "execution_count": 8,
   "metadata": {},
   "outputs": [
    {
     "ename": "ValueError",
     "evalue": "Length mismatch: Expected axis has 42 elements, new values have 41 elements",
     "output_type": "error",
     "traceback": [
      "\u001b[1;31m---------------------------------------------------------------------------\u001b[0m",
      "\u001b[1;31mValueError\u001b[0m                                Traceback (most recent call last)",
      "\u001b[1;32m~\\AppData\\Local\\Temp/ipykernel_9232/1128513519.py\u001b[0m in \u001b[0;36m<module>\u001b[1;34m\u001b[0m\n\u001b[1;32m----> 1\u001b[1;33m hua.columns= [\"Region\",\"District\",\"Place\",\"4_6_years_men\",\"4_6_years_women\"\n\u001b[0m\u001b[0;32m      2\u001b[0m \u001b[1;33m,\u001b[0m\u001b[1;34m\"4_6_years_total\"\u001b[0m\u001b[1;33m,\u001b[0m\u001b[1;34m\"6_14_years_men\"\u001b[0m\u001b[1;33m,\u001b[0m\u001b[1;34m\"6_14_years_women\"\u001b[0m\u001b[1;33m,\u001b[0m\u001b[1;34m\"6_14_years_total\"\u001b[0m\u001b[1;33m,\u001b[0m\u001b[1;34m\"man_read\"\u001b[0m\u001b[1;33m,\u001b[0m\u001b[1;34m\"women_read\"\u001b[0m\u001b[1;33m,\u001b[0m\u001b[1;34m\"total_read\"\u001b[0m\u001b[1;33m,\u001b[0m\u001b[1;34m\"men_not_read\"\u001b[0m\u001b[1;33m,\u001b[0m\u001b[1;34m\"women_not_read\"\u001b[0m\u001b[1;33m,\u001b[0m\u001b[1;34m\"total_not_read\"\u001b[0m\u001b[1;33m,\u001b[0m\u001b[1;34m\"man_write\"\u001b[0m\u001b[1;33m,\u001b[0m\u001b[1;34m\"women_write\"\u001b[0m\u001b[1;33m,\u001b[0m\u001b[1;34m\"total_write\"\u001b[0m\u001b[1;33m,\u001b[0m\u001b[1;34m\"men_not_write\"\u001b[0m\u001b[1;33m,\u001b[0m\u001b[1;34m\"women_not_write\"\u001b[0m\u001b[1;33m,\u001b[0m\u001b[1;34m\"total_not_write\"\u001b[0m\u001b[1;33m,\u001b[0m\u001b[1;34m\"instruction_men\"\u001b[0m\u001b[1;33m,\u001b[0m\u001b[1;34m\"instruction_women\"\u001b[0m\u001b[1;33m,\u001b[0m\u001b[1;34m\"instruction_total\"\u001b[0m\u001b[1;33m,\u001b[0m\u001b[1;34m\"no_instruction_men\"\u001b[0m\u001b[1;33m,\u001b[0m\u001b[1;34m\"no_instruction_women\"\u001b[0m\u001b[1;33m,\u001b[0m\u001b[1;34m\"no_instruction_total\"\u001b[0m\u001b[1;33m,\u001b[0m\u001b[1;34m\"finished_instr_men\"\u001b[0m\u001b[1;33m,\u001b[0m\u001b[1;34m\"finished_instr_women\"\u001b[0m\u001b[1;33m,\u001b[0m\u001b[1;34m\"finished_instr_total\"\u001b[0m\u001b[1;33m,\u001b[0m\u001b[1;34m\"not_finished_instr_men\"\u001b[0m\u001b[1;33m,\u001b[0m\u001b[1;34m\"not_finished_instr_women\"\u001b[0m\u001b[1;33m,\u001b[0m\u001b[1;34m\"not_finished_instr_total\"\u001b[0m\u001b[1;33m,\u001b[0m\u001b[1;34m\"peruvian_men\"\u001b[0m\u001b[1;33m\u001b[0m\u001b[1;33m\u001b[0m\u001b[0m\n\u001b[0;32m      3\u001b[0m  , \"peruvian_women\", \"foreign_men\", \"foreign_women\", \"whites\", \"natives\", \"mestizos\" , \"blacks\"]\n",
      "\u001b[1;32m~\\anaconda3\\lib\\site-packages\\pandas\\core\\generic.py\u001b[0m in \u001b[0;36m__setattr__\u001b[1;34m(self, name, value)\u001b[0m\n\u001b[0;32m   5498\u001b[0m         \u001b[1;32mtry\u001b[0m\u001b[1;33m:\u001b[0m\u001b[1;33m\u001b[0m\u001b[1;33m\u001b[0m\u001b[0m\n\u001b[0;32m   5499\u001b[0m             \u001b[0mobject\u001b[0m\u001b[1;33m.\u001b[0m\u001b[0m__getattribute__\u001b[0m\u001b[1;33m(\u001b[0m\u001b[0mself\u001b[0m\u001b[1;33m,\u001b[0m \u001b[0mname\u001b[0m\u001b[1;33m)\u001b[0m\u001b[1;33m\u001b[0m\u001b[1;33m\u001b[0m\u001b[0m\n\u001b[1;32m-> 5500\u001b[1;33m             \u001b[1;32mreturn\u001b[0m \u001b[0mobject\u001b[0m\u001b[1;33m.\u001b[0m\u001b[0m__setattr__\u001b[0m\u001b[1;33m(\u001b[0m\u001b[0mself\u001b[0m\u001b[1;33m,\u001b[0m \u001b[0mname\u001b[0m\u001b[1;33m,\u001b[0m \u001b[0mvalue\u001b[0m\u001b[1;33m)\u001b[0m\u001b[1;33m\u001b[0m\u001b[1;33m\u001b[0m\u001b[0m\n\u001b[0m\u001b[0;32m   5501\u001b[0m         \u001b[1;32mexcept\u001b[0m \u001b[0mAttributeError\u001b[0m\u001b[1;33m:\u001b[0m\u001b[1;33m\u001b[0m\u001b[1;33m\u001b[0m\u001b[0m\n\u001b[0;32m   5502\u001b[0m             \u001b[1;32mpass\u001b[0m\u001b[1;33m\u001b[0m\u001b[1;33m\u001b[0m\u001b[0m\n",
      "\u001b[1;32m~\\anaconda3\\lib\\site-packages\\pandas\\_libs\\properties.pyx\u001b[0m in \u001b[0;36mpandas._libs.properties.AxisProperty.__set__\u001b[1;34m()\u001b[0m\n",
      "\u001b[1;32m~\\anaconda3\\lib\\site-packages\\pandas\\core\\generic.py\u001b[0m in \u001b[0;36m_set_axis\u001b[1;34m(self, axis, labels)\u001b[0m\n\u001b[0;32m    764\u001b[0m     \u001b[1;32mdef\u001b[0m \u001b[0m_set_axis\u001b[0m\u001b[1;33m(\u001b[0m\u001b[0mself\u001b[0m\u001b[1;33m,\u001b[0m \u001b[0maxis\u001b[0m\u001b[1;33m:\u001b[0m \u001b[0mint\u001b[0m\u001b[1;33m,\u001b[0m \u001b[0mlabels\u001b[0m\u001b[1;33m:\u001b[0m \u001b[0mIndex\u001b[0m\u001b[1;33m)\u001b[0m \u001b[1;33m->\u001b[0m \u001b[1;32mNone\u001b[0m\u001b[1;33m:\u001b[0m\u001b[1;33m\u001b[0m\u001b[1;33m\u001b[0m\u001b[0m\n\u001b[0;32m    765\u001b[0m         \u001b[0mlabels\u001b[0m \u001b[1;33m=\u001b[0m \u001b[0mensure_index\u001b[0m\u001b[1;33m(\u001b[0m\u001b[0mlabels\u001b[0m\u001b[1;33m)\u001b[0m\u001b[1;33m\u001b[0m\u001b[1;33m\u001b[0m\u001b[0m\n\u001b[1;32m--> 766\u001b[1;33m         \u001b[0mself\u001b[0m\u001b[1;33m.\u001b[0m\u001b[0m_mgr\u001b[0m\u001b[1;33m.\u001b[0m\u001b[0mset_axis\u001b[0m\u001b[1;33m(\u001b[0m\u001b[0maxis\u001b[0m\u001b[1;33m,\u001b[0m \u001b[0mlabels\u001b[0m\u001b[1;33m)\u001b[0m\u001b[1;33m\u001b[0m\u001b[1;33m\u001b[0m\u001b[0m\n\u001b[0m\u001b[0;32m    767\u001b[0m         \u001b[0mself\u001b[0m\u001b[1;33m.\u001b[0m\u001b[0m_clear_item_cache\u001b[0m\u001b[1;33m(\u001b[0m\u001b[1;33m)\u001b[0m\u001b[1;33m\u001b[0m\u001b[1;33m\u001b[0m\u001b[0m\n\u001b[0;32m    768\u001b[0m \u001b[1;33m\u001b[0m\u001b[0m\n",
      "\u001b[1;32m~\\anaconda3\\lib\\site-packages\\pandas\\core\\internals\\managers.py\u001b[0m in \u001b[0;36mset_axis\u001b[1;34m(self, axis, new_labels)\u001b[0m\n\u001b[0;32m    214\u001b[0m     \u001b[1;32mdef\u001b[0m \u001b[0mset_axis\u001b[0m\u001b[1;33m(\u001b[0m\u001b[0mself\u001b[0m\u001b[1;33m,\u001b[0m \u001b[0maxis\u001b[0m\u001b[1;33m:\u001b[0m \u001b[0mint\u001b[0m\u001b[1;33m,\u001b[0m \u001b[0mnew_labels\u001b[0m\u001b[1;33m:\u001b[0m \u001b[0mIndex\u001b[0m\u001b[1;33m)\u001b[0m \u001b[1;33m->\u001b[0m \u001b[1;32mNone\u001b[0m\u001b[1;33m:\u001b[0m\u001b[1;33m\u001b[0m\u001b[1;33m\u001b[0m\u001b[0m\n\u001b[0;32m    215\u001b[0m         \u001b[1;31m# Caller is responsible for ensuring we have an Index object.\u001b[0m\u001b[1;33m\u001b[0m\u001b[1;33m\u001b[0m\u001b[0m\n\u001b[1;32m--> 216\u001b[1;33m         \u001b[0mself\u001b[0m\u001b[1;33m.\u001b[0m\u001b[0m_validate_set_axis\u001b[0m\u001b[1;33m(\u001b[0m\u001b[0maxis\u001b[0m\u001b[1;33m,\u001b[0m \u001b[0mnew_labels\u001b[0m\u001b[1;33m)\u001b[0m\u001b[1;33m\u001b[0m\u001b[1;33m\u001b[0m\u001b[0m\n\u001b[0m\u001b[0;32m    217\u001b[0m         \u001b[0mself\u001b[0m\u001b[1;33m.\u001b[0m\u001b[0maxes\u001b[0m\u001b[1;33m[\u001b[0m\u001b[0maxis\u001b[0m\u001b[1;33m]\u001b[0m \u001b[1;33m=\u001b[0m \u001b[0mnew_labels\u001b[0m\u001b[1;33m\u001b[0m\u001b[1;33m\u001b[0m\u001b[0m\n\u001b[0;32m    218\u001b[0m \u001b[1;33m\u001b[0m\u001b[0m\n",
      "\u001b[1;32m~\\anaconda3\\lib\\site-packages\\pandas\\core\\internals\\base.py\u001b[0m in \u001b[0;36m_validate_set_axis\u001b[1;34m(self, axis, new_labels)\u001b[0m\n\u001b[0;32m     55\u001b[0m \u001b[1;33m\u001b[0m\u001b[0m\n\u001b[0;32m     56\u001b[0m         \u001b[1;32melif\u001b[0m \u001b[0mnew_len\u001b[0m \u001b[1;33m!=\u001b[0m \u001b[0mold_len\u001b[0m\u001b[1;33m:\u001b[0m\u001b[1;33m\u001b[0m\u001b[1;33m\u001b[0m\u001b[0m\n\u001b[1;32m---> 57\u001b[1;33m             raise ValueError(\n\u001b[0m\u001b[0;32m     58\u001b[0m                 \u001b[1;34mf\"Length mismatch: Expected axis has {old_len} elements, new \"\u001b[0m\u001b[1;33m\u001b[0m\u001b[1;33m\u001b[0m\u001b[0m\n\u001b[0;32m     59\u001b[0m                 \u001b[1;34mf\"values have {new_len} elements\"\u001b[0m\u001b[1;33m\u001b[0m\u001b[1;33m\u001b[0m\u001b[0m\n",
      "\u001b[1;31mValueError\u001b[0m: Length mismatch: Expected axis has 42 elements, new values have 41 elements"
     ]
    }
   ],
   "source": [
    "hua.columns= [\"Region\",\"District\",\"Place\",\"4_6_years_men\",\"4_6_years_women\"\n",
    ",\"4_6_years_total\",\"6_14_years_men\",\"6_14_years_women\",\"6_14_years_total\",\"man_read\",\"women_read\",\"total_read\",\"men_not_read\",\"women_not_read\",\"total_not_read\",\"man_write\",\"women_write\",\"total_write\",\"men_not_write\",\"women_not_write\",\"total_not_write\",\"instruction_men\",\"instruction_women\",\"instruction_total\",\"no_instruction_men\",\"no_instruction_women\",\"no_instruction_total\",\"finished_instr_men\",\"finished_instr_women\",\"finished_instr_total\",\"not_finished_instr_men\",\"not_finished_instr_women\",\"not_finished_instr_total\",\"peruvian_men\"\n",
    " , \"peruvian_women\", \"foreign_men\", \"foreign_women\", \"whites\", \"natives\", \"mestizos\" , \"blacks\"]"
   ]
  },
  {
   "cell_type": "code",
   "execution_count": null,
   "metadata": {},
   "outputs": [],
   "source": []
  },
  {
   "cell_type": "code",
   "execution_count": null,
   "metadata": {},
   "outputs": [],
   "source": []
  },
  {
   "cell_type": "markdown",
   "metadata": {},
   "source": [
    "# Clean String Variables"
   ]
  },
  {
   "cell_type": "code",
   "execution_count": null,
   "metadata": {},
   "outputs": [],
   "source": [
    "# Translate to Uppercase variables \n",
    "hua[\"District\"] =hua[\"District\"].str.upper()\n",
    "hua[\"Place\"] = hua[\"Place\"].str.upper()\n",
    "\n"
   ]
  },
  {
   "cell_type": "code",
   "execution_count": null,
   "metadata": {
    "scrolled": true
   },
   "outputs": [],
   "source": [
    "hua[\"Place\"] = hua[\"Place\"].str.strip()\n",
    "# Find errors with string = Total\n",
    "errors =hua.loc[hua[\"Place\"]==\"TOTAL\"]\n",
    "error_list = errors.index.tolist()\n",
    "\n",
    "hua_clean = hua.drop(hua.index[error_list])\n",
    "hua_clean"
   ]
  },
  {
   "cell_type": "code",
   "execution_count": null,
   "metadata": {
    "scrolled": true
   },
   "outputs": [],
   "source": [
    "# Drop first 3 rows beacuse it does not serve us\n",
    "hua_clean = hua_clean.drop([0, 1, 2],axis=0)\n",
    "hua_clean"
   ]
  },
  {
   "cell_type": "code",
   "execution_count": null,
   "metadata": {
    "scrolled": false
   },
   "outputs": [],
   "source": [
    "# drop by index\n",
    "# Reset to index because we have removed rows and renumbering them\n",
    "hua_clean = hua_clean.reset_index()\n",
    "hua_clean"
   ]
  },
  {
   "cell_type": "code",
   "execution_count": null,
   "metadata": {
    "scrolled": false
   },
   "outputs": [],
   "source": [
    "# indentify the types of Colum in the data \n",
    "a = hua_clean.drop(\"index\", axis=1)\n",
    "a.dtypes"
   ]
  },
  {
   "cell_type": "code",
   "execution_count": null,
   "metadata": {
    "scrolled": false
   },
   "outputs": [],
   "source": [
    "#As a precaution, we will check again that there are no rows with \"Total\"\n",
    "errors1 =a.loc[a[\"Place\"]==\"TOTAL\"]\n",
    "errors1"
   ]
  },
  {
   "cell_type": "code",
   "execution_count": null,
   "metadata": {
    "scrolled": false
   },
   "outputs": [],
   "source": [
    "a1=a.dtypes"
   ]
  },
  {
   "cell_type": "code",
   "execution_count": null,
   "metadata": {
    "scrolled": false
   },
   "outputs": [],
   "source": [
    "# This code will change the object column type to int64\n",
    "a12= a.infer_objects()\n",
    "a12.dtypes"
   ]
  },
  {
   "cell_type": "code",
   "execution_count": null,
   "metadata": {},
   "outputs": [],
   "source": [
    "#https://datatofish.com/string-to-integer-dataframe/\n",
    "a12['4_6_years_women'] = pd.to_numeric(a12['4_6_years_women'])\n",
    "a12.dtypes"
   ]
  },
  {
   "cell_type": "code",
   "execution_count": null,
   "metadata": {},
   "outputs": [],
   "source": [
    "a12['total_read'] = pd.to_numeric(a12['total_read'])\n",
    "a12.dtypes"
   ]
  },
  {
   "cell_type": "code",
   "execution_count": null,
   "metadata": {
    "scrolled": false
   },
   "outputs": [],
   "source": [
    "a12['total_write'] = pd.to_numeric(a12['total_write'])\n",
    "a12.dtypes"
   ]
  },
  {
   "cell_type": "code",
   "execution_count": null,
   "metadata": {
    "scrolled": true
   },
   "outputs": [],
   "source": [
    "a12[\"man_write\"] = a12[\"man_write\"].astype(int)\n"
   ]
  },
  {
   "cell_type": "code",
   "execution_count": null,
   "metadata": {},
   "outputs": [],
   "source": [
    "a12[\"total_write\"] = pd.to_numeric(a12['total_write'])\n",
    "a12.dtypes"
   ]
  },
  {
   "cell_type": "code",
   "execution_count": null,
   "metadata": {},
   "outputs": [],
   "source": [
    "a12"
   ]
  },
  {
   "cell_type": "code",
   "execution_count": null,
   "metadata": {},
   "outputs": [],
   "source": [
    "Code1= a12.to_excel(\"Region_Junin.xlsx\")\n",
    "Code1"
   ]
  },
  {
   "cell_type": "code",
   "execution_count": null,
   "metadata": {},
   "outputs": [],
   "source": [
    "df[\"edad_float\"] = pd.to_numeric(df[\"A\"], downcast=\"float\")\n"
   ]
  },
  {
   "cell_type": "code",
   "execution_count": null,
   "metadata": {},
   "outputs": [],
   "source": [
    "a12= a.infer_objects()\n",
    "a12.dtypes"
   ]
  },
  {
   "cell_type": "code",
   "execution_count": null,
   "metadata": {},
   "outputs": [],
   "source": []
  },
  {
   "cell_type": "code",
   "execution_count": null,
   "metadata": {},
   "outputs": [],
   "source": [
    "txt = \"    Total .      \"\n",
    "\n",
    "x = txt.strip(\",.   \")\n",
    "\n",
    "print(x)"
   ]
  },
  {
   "cell_type": "code",
   "execution_count": null,
   "metadata": {},
   "outputs": [],
   "source": [
    "txt = \" Total .\"\n",
    "\n",
    "x = txt.strip(\",.   \")\n",
    "\n",
    "print(x)"
   ]
  },
  {
   "cell_type": "code",
   "execution_count": null,
   "metadata": {},
   "outputs": [],
   "source": [
    "txt = \"        Total        .\"\n",
    "\n",
    "x = txt.strip()\n",
    "\n",
    "print(x)"
   ]
  },
  {
   "cell_type": "code",
   "execution_count": null,
   "metadata": {},
   "outputs": [],
   "source": [
    "#Elimine los caracteres principales y finales:\n",
    "#Elimina datos dentro del strip que no quieres q salgan\n",
    "txt = \",,,,,rrttgg.....banana....rrr\"\n",
    "\n",
    "x = txt.strip(\",.grt\")\n",
    "\n",
    "print(x)"
   ]
  },
  {
   "cell_type": "code",
   "execution_count": null,
   "metadata": {},
   "outputs": [],
   "source": [
    "txt = \"     banana     \"\n",
    "\n",
    "x = txt.strip()\n",
    "\n",
    "print(\"of all fruits\", x, \"is my favorite\")"
   ]
  },
  {
   "cell_type": "code",
   "execution_count": null,
   "metadata": {},
   "outputs": [],
   "source": [
    "junin = pd.read_excel(r\"C:\\Users\\egonz\\Desktop\\LIMPIAR DATA/JUNIN_FINALIZADO.xlsx\")\n",
    "junin[\"Region\"] = \"JUNIN\"\n",
    "region = junin[\"Region\"]\n",
    "junin.drop(labels = \"Region\", axis=1, inplace = True)\n",
    "junin.insert(0, \"Region\", region)\n",
    "junin.columns= [\"Region\",\"District\",\"Place\",\"4_6_years_men\",\"4_6_years_women\"\n",
    ",\"4_6_years_total\",\"6_14_years_men\",\"6_14_years_women\",\"6_14_years_total\",\"man_read\",\"women_read\",\"total_read\",\"men_not_read\",\"women_not_read\",\"total_not_read\",\"man_write\",\"women_write\",\"total_write\",\"men_not_write\",\"women_not_write\",\"total_not_write\",\"instruction_men\",\"instruction_women\",\"instruction_total\",\"no_instruction_men\",\"no_instruction_women\",\"no_instruction_total\",\"finished_instr_men\",\"finished_instr_women\",\"finished_instr_total\",\"not_finished_instr_men\",\"not_finished_instr_women\",\"not_finished_instr_total\",\"peruvian_men\"\n",
    " , \"peruvian_women\", \"foreign_men\", \"foreign_women\", \"whites\", \"natives\", \"mestizos\" , \"blacks\"]\n",
    "\n",
    "# Clean String Variables\n",
    "\n",
    "# Translate to Uppercase variables \n",
    "junin[\"District\"] =junin[\"District\"].str.upper()\n",
    "junin[\"Place\"] = junin[\"Place\"].str.upper()\n",
    "\n",
    "\n",
    "\n",
    "junin[\"Place\"] = junin[\"Place\"].str.strip()\n",
    "# Find errors with string = Total\n",
    "errors =junin.loc[junin[\"Place\"]==\"TOTAL\"]\n",
    "error_list = errors.index.tolist()\n",
    "\n",
    "junin_clean = junin.drop(junin.index[error_list])\n",
    "junin_clean\n",
    "\n",
    "# Drop first 3 rows beacuse it does not serve us\n",
    "junin_clean = junin_clean.drop([0, 1, 2],axis=0)\n",
    "junin_clean\n",
    "\n",
    "# drop by index\n",
    "# Reset to index because we have removed rows and renumbering them\n",
    "junin_clean = junin_clean.reset_index()\n",
    "junin_clean\n",
    "\n",
    "# indentify the types of Colum in the data \n",
    "a = junin_clean.drop(\"index\", axis=1)\n",
    "a.dtypes\n",
    "\n",
    "#As a precaution, we will check again that there are no rows with \"Total\"\n",
    "errors1 =a.loc[a[\"Place\"]==\"TOTAL\"]\n",
    "errors1\n",
    "\n",
    "a1=a.dtypes\n",
    "\n",
    "# This code will change the object column type to int64\n",
    "a12= a.infer_objects()\n",
    "a12.dtypes\n",
    "\n",
    "a12\n",
    "\n",
    "Code1= a12.to_excel(\"Region_Junin.xlsx\")\n",
    "Code1\n",
    "\n",
    "df[\"edad_float\"] = pd.to_numeric(df[\"A\"], downcast=\"float\")\n",
    "\n",
    "\n",
    "a12= a.infer_objects()\n",
    "a12.dtypes\n",
    "\n",
    "\n",
    "\n",
    "txt = \"    Total .      \"\n",
    "\n",
    "x = txt.strip(\",.   \")\n",
    "\n",
    "print(x)\n",
    "\n",
    "txt = \" Total .\"\n",
    "\n",
    "x = txt.strip(\",.   \")\n",
    "\n",
    "print(x)\n",
    "\n",
    "txt = \"        Total        .\"\n",
    "\n",
    "x = txt.strip()\n",
    "\n",
    "print(x)\n",
    "\n",
    "#Elimine los caracteres principales y finales:\n",
    "#Elimina datos dentro del strip que no quieres q salgan\n",
    "txt = \",,,,,rrttgg.....banana....rrr\"\n",
    "\n",
    "x = txt.strip(\",.grt\")\n",
    "\n",
    "print(x)\n",
    "\n",
    "txt = \"     banana     \"\n",
    "\n",
    "x = txt.strip()\n",
    "\n",
    "print(\"of all fruits\", x, \"is my favorite\")"
   ]
  }
 ],
 "metadata": {
  "kernelspec": {
   "display_name": "Python 3 (ipykernel)",
   "language": "python",
   "name": "python3"
  },
  "language_info": {
   "codemirror_mode": {
    "name": "ipython",
    "version": 3
   },
   "file_extension": ".py",
   "mimetype": "text/x-python",
   "name": "python",
   "nbconvert_exporter": "python",
   "pygments_lexer": "ipython3",
   "version": "3.9.7"
  }
 },
 "nbformat": 4,
 "nbformat_minor": 4
}
